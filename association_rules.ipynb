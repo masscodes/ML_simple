{
  "nbformat": 4,
  "nbformat_minor": 0,
  "metadata": {
    "colab": {
      "provenance": []
    },
    "kernelspec": {
      "name": "python3",
      "display_name": "Python 3"
    },
    "language_info": {
      "name": "python"
    }
  },
  "cells": [
    {
      "cell_type": "code",
      "source": [
        "import pandas as pd\n",
        "from mlxtend.preprocessing import TransactionEncoder\n",
        "from mlxtend.frequent_patterns import apriori, association_rules"
      ],
      "metadata": {
        "id": "wxnvhhazRbEQ"
      },
      "execution_count": 3,
      "outputs": []
    },
    {
      "cell_type": "code",
      "source": [
        "# data https://www.kaggle.com/datasets/shazadudwadia/supermarket\n",
        "dataset = pd.read_csv('/content/GroceryStoreDataSet.csv')\n"
      ],
      "metadata": {
        "id": "jYvIGHIVReob"
      },
      "execution_count": 18,
      "outputs": []
    },
    {
      "cell_type": "code",
      "source": [
        "dataset.head()"
      ],
      "metadata": {
        "colab": {
          "base_uri": "https://localhost:8080/",
          "height": 206
        },
        "id": "_F_ItCTGP7iy",
        "outputId": "b31ec905-f429-4a2b-cf01-d82c9a1efd3d"
      },
      "execution_count": 6,
      "outputs": [
        {
          "output_type": "execute_result",
          "data": {
            "text/plain": [
              "              MILK,BREAD,BISCUIT\n",
              "0  BREAD,MILK,BISCUIT,CORNFLAKES\n",
              "1            BREAD,TEA,BOURNVITA\n",
              "2           JAM,MAGGI,BREAD,MILK\n",
              "3              MAGGI,TEA,BISCUIT\n",
              "4            BREAD,TEA,BOURNVITA"
            ],
            "text/html": [
              "\n",
              "  <div id=\"df-27b1ecd6-6af2-4033-8bff-58de33668b65\">\n",
              "    <div class=\"colab-df-container\">\n",
              "      <div>\n",
              "<style scoped>\n",
              "    .dataframe tbody tr th:only-of-type {\n",
              "        vertical-align: middle;\n",
              "    }\n",
              "\n",
              "    .dataframe tbody tr th {\n",
              "        vertical-align: top;\n",
              "    }\n",
              "\n",
              "    .dataframe thead th {\n",
              "        text-align: right;\n",
              "    }\n",
              "</style>\n",
              "<table border=\"1\" class=\"dataframe\">\n",
              "  <thead>\n",
              "    <tr style=\"text-align: right;\">\n",
              "      <th></th>\n",
              "      <th>MILK,BREAD,BISCUIT</th>\n",
              "    </tr>\n",
              "  </thead>\n",
              "  <tbody>\n",
              "    <tr>\n",
              "      <th>0</th>\n",
              "      <td>BREAD,MILK,BISCUIT,CORNFLAKES</td>\n",
              "    </tr>\n",
              "    <tr>\n",
              "      <th>1</th>\n",
              "      <td>BREAD,TEA,BOURNVITA</td>\n",
              "    </tr>\n",
              "    <tr>\n",
              "      <th>2</th>\n",
              "      <td>JAM,MAGGI,BREAD,MILK</td>\n",
              "    </tr>\n",
              "    <tr>\n",
              "      <th>3</th>\n",
              "      <td>MAGGI,TEA,BISCUIT</td>\n",
              "    </tr>\n",
              "    <tr>\n",
              "      <th>4</th>\n",
              "      <td>BREAD,TEA,BOURNVITA</td>\n",
              "    </tr>\n",
              "  </tbody>\n",
              "</table>\n",
              "</div>\n",
              "      <button class=\"colab-df-convert\" onclick=\"convertToInteractive('df-27b1ecd6-6af2-4033-8bff-58de33668b65')\"\n",
              "              title=\"Convert this dataframe to an interactive table.\"\n",
              "              style=\"display:none;\">\n",
              "        \n",
              "  <svg xmlns=\"http://www.w3.org/2000/svg\" height=\"24px\"viewBox=\"0 0 24 24\"\n",
              "       width=\"24px\">\n",
              "    <path d=\"M0 0h24v24H0V0z\" fill=\"none\"/>\n",
              "    <path d=\"M18.56 5.44l.94 2.06.94-2.06 2.06-.94-2.06-.94-.94-2.06-.94 2.06-2.06.94zm-11 1L8.5 8.5l.94-2.06 2.06-.94-2.06-.94L8.5 2.5l-.94 2.06-2.06.94zm10 10l.94 2.06.94-2.06 2.06-.94-2.06-.94-.94-2.06-.94 2.06-2.06.94z\"/><path d=\"M17.41 7.96l-1.37-1.37c-.4-.4-.92-.59-1.43-.59-.52 0-1.04.2-1.43.59L10.3 9.45l-7.72 7.72c-.78.78-.78 2.05 0 2.83L4 21.41c.39.39.9.59 1.41.59.51 0 1.02-.2 1.41-.59l7.78-7.78 2.81-2.81c.8-.78.8-2.07 0-2.86zM5.41 20L4 18.59l7.72-7.72 1.47 1.35L5.41 20z\"/>\n",
              "  </svg>\n",
              "      </button>\n",
              "      \n",
              "  <style>\n",
              "    .colab-df-container {\n",
              "      display:flex;\n",
              "      flex-wrap:wrap;\n",
              "      gap: 12px;\n",
              "    }\n",
              "\n",
              "    .colab-df-convert {\n",
              "      background-color: #E8F0FE;\n",
              "      border: none;\n",
              "      border-radius: 50%;\n",
              "      cursor: pointer;\n",
              "      display: none;\n",
              "      fill: #1967D2;\n",
              "      height: 32px;\n",
              "      padding: 0 0 0 0;\n",
              "      width: 32px;\n",
              "    }\n",
              "\n",
              "    .colab-df-convert:hover {\n",
              "      background-color: #E2EBFA;\n",
              "      box-shadow: 0px 1px 2px rgba(60, 64, 67, 0.3), 0px 1px 3px 1px rgba(60, 64, 67, 0.15);\n",
              "      fill: #174EA6;\n",
              "    }\n",
              "\n",
              "    [theme=dark] .colab-df-convert {\n",
              "      background-color: #3B4455;\n",
              "      fill: #D2E3FC;\n",
              "    }\n",
              "\n",
              "    [theme=dark] .colab-df-convert:hover {\n",
              "      background-color: #434B5C;\n",
              "      box-shadow: 0px 1px 3px 1px rgba(0, 0, 0, 0.15);\n",
              "      filter: drop-shadow(0px 1px 2px rgba(0, 0, 0, 0.3));\n",
              "      fill: #FFFFFF;\n",
              "    }\n",
              "  </style>\n",
              "\n",
              "      <script>\n",
              "        const buttonEl =\n",
              "          document.querySelector('#df-27b1ecd6-6af2-4033-8bff-58de33668b65 button.colab-df-convert');\n",
              "        buttonEl.style.display =\n",
              "          google.colab.kernel.accessAllowed ? 'block' : 'none';\n",
              "\n",
              "        async function convertToInteractive(key) {\n",
              "          const element = document.querySelector('#df-27b1ecd6-6af2-4033-8bff-58de33668b65');\n",
              "          const dataTable =\n",
              "            await google.colab.kernel.invokeFunction('convertToInteractive',\n",
              "                                                     [key], {});\n",
              "          if (!dataTable) return;\n",
              "\n",
              "          const docLinkHtml = 'Like what you see? Visit the ' +\n",
              "            '<a target=\"_blank\" href=https://colab.research.google.com/notebooks/data_table.ipynb>data table notebook</a>'\n",
              "            + ' to learn more about interactive tables.';\n",
              "          element.innerHTML = '';\n",
              "          dataTable['output_type'] = 'display_data';\n",
              "          await google.colab.output.renderOutput(dataTable, element);\n",
              "          const docLink = document.createElement('div');\n",
              "          docLink.innerHTML = docLinkHtml;\n",
              "          element.appendChild(docLink);\n",
              "        }\n",
              "      </script>\n",
              "    </div>\n",
              "  </div>\n",
              "  "
            ]
          },
          "metadata": {},
          "execution_count": 6
        }
      ]
    },
    {
      "cell_type": "code",
      "source": [
        "dataset.columns"
      ],
      "metadata": {
        "colab": {
          "base_uri": "https://localhost:8080/"
        },
        "id": "GuD9sJFBQBxW",
        "outputId": "d21daf06-9efe-4729-a839-d3e4392afcec"
      },
      "execution_count": 19,
      "outputs": [
        {
          "output_type": "execute_result",
          "data": {
            "text/plain": [
              "Index(['MILK,BREAD,BISCUIT'], dtype='object')"
            ]
          },
          "metadata": {},
          "execution_count": 19
        }
      ]
    },
    {
      "cell_type": "code",
      "source": [
        "dataset.shape"
      ],
      "metadata": {
        "colab": {
          "base_uri": "https://localhost:8080/"
        },
        "id": "a_QBKLx7TA13",
        "outputId": "80a8bb56-5eeb-4696-c32c-9a2133e64761"
      },
      "execution_count": 20,
      "outputs": [
        {
          "output_type": "execute_result",
          "data": {
            "text/plain": [
              "(19, 1)"
            ]
          },
          "metadata": {},
          "execution_count": 20
        }
      ]
    },
    {
      "cell_type": "code",
      "source": [
        "dataset.loc[len(dataset.index)] = ['MILK,BREAD,BISCUIT']"
      ],
      "metadata": {
        "id": "6xNfwuuvQiHW"
      },
      "execution_count": 21,
      "outputs": []
    },
    {
      "cell_type": "code",
      "source": [
        "dataset.shape"
      ],
      "metadata": {
        "colab": {
          "base_uri": "https://localhost:8080/"
        },
        "id": "BHUmp5EnTKcP",
        "outputId": "2737570b-2527-46c4-e839-8cec16aecf99"
      },
      "execution_count": 22,
      "outputs": [
        {
          "output_type": "execute_result",
          "data": {
            "text/plain": [
              "(20, 1)"
            ]
          },
          "metadata": {},
          "execution_count": 22
        }
      ]
    },
    {
      "cell_type": "code",
      "source": [
        "dataset.rename(columns={'MILK,BREAD,BISCUIT': 'prods'}, inplace=True)"
      ],
      "metadata": {
        "id": "wVOG-VM_TUox"
      },
      "execution_count": 26,
      "outputs": []
    },
    {
      "cell_type": "code",
      "source": [
        "dataset.dtypes"
      ],
      "metadata": {
        "colab": {
          "base_uri": "https://localhost:8080/"
        },
        "id": "nnsmWiWaTlKj",
        "outputId": "00da1fd4-d69b-4338-f1dc-1ea635daf8e7"
      },
      "execution_count": 24,
      "outputs": [
        {
          "output_type": "execute_result",
          "data": {
            "text/plain": [
              "MILK,BREAD,BISCUIT    object\n",
              "dtype: object"
            ]
          },
          "metadata": {},
          "execution_count": 24
        }
      ]
    },
    {
      "cell_type": "code",
      "source": [
        "data_arr = list(dataset.prods.map(lambda x: x.split(',')))"
      ],
      "metadata": {
        "id": "9IFBOay-T1Dw"
      },
      "execution_count": 27,
      "outputs": []
    },
    {
      "cell_type": "code",
      "source": [
        "te = TransactionEncoder()\n",
        "te_array = te.fit(data_arr).transform(data_arr)\n",
        "df = pd.DataFrame(te_array, columns=te.columns_)\n"
      ],
      "metadata": {
        "id": "6Js8FR2cRrtW"
      },
      "execution_count": 28,
      "outputs": []
    },
    {
      "cell_type": "code",
      "source": [
        "frequent_itemsets_ap = apriori(df, min_support=0.1, use_colnames=True)\n",
        "print(frequent_itemsets_ap)"
      ],
      "metadata": {
        "colab": {
          "base_uri": "https://localhost:8080/"
        },
        "id": "R1JbkhOgSZOC",
        "outputId": "73237709-188d-4d25-e6df-d741503669da"
      },
      "execution_count": 29,
      "outputs": [
        {
          "output_type": "stream",
          "name": "stdout",
          "text": [
            "    support                             itemsets\n",
            "0      0.35                            (BISCUIT)\n",
            "1      0.20                          (BOURNVITA)\n",
            "2      0.65                              (BREAD)\n",
            "3      0.15                               (COCK)\n",
            "4      0.40                             (COFFEE)\n",
            "5      0.30                         (CORNFLAKES)\n",
            "6      0.10                                (JAM)\n",
            "7      0.25                              (MAGGI)\n",
            "8      0.25                               (MILK)\n",
            "9      0.30                              (SUGER)\n",
            "10     0.35                                (TEA)\n",
            "11     0.20                     (BISCUIT, BREAD)\n",
            "12     0.10                      (BISCUIT, COCK)\n",
            "13     0.10                    (BISCUIT, COFFEE)\n",
            "14     0.15                (CORNFLAKES, BISCUIT)\n",
            "15     0.10                     (BISCUIT, MAGGI)\n",
            "16     0.10                      (BISCUIT, MILK)\n",
            "17     0.10                       (BISCUIT, TEA)\n",
            "18     0.15                   (BOURNVITA, BREAD)\n",
            "19     0.10                   (BOURNVITA, SUGER)\n",
            "20     0.10                     (BOURNVITA, TEA)\n",
            "21     0.15                      (BREAD, COFFEE)\n",
            "22     0.10                         (BREAD, JAM)\n",
            "23     0.15                       (BREAD, MAGGI)\n",
            "24     0.20                        (BREAD, MILK)\n",
            "25     0.20                       (SUGER, BREAD)\n",
            "26     0.20                         (TEA, BREAD)\n",
            "27     0.15                       (COCK, COFFEE)\n",
            "28     0.10                   (CORNFLAKES, COCK)\n",
            "29     0.20                 (CORNFLAKES, COFFEE)\n",
            "30     0.20                      (SUGER, COFFEE)\n",
            "31     0.10                   (CORNFLAKES, MILK)\n",
            "32     0.10                    (CORNFLAKES, TEA)\n",
            "33     0.10                         (MAGGI, JAM)\n",
            "34     0.20                         (TEA, MAGGI)\n",
            "35     0.10               (BISCUIT, BREAD, MILK)\n",
            "36     0.10              (BISCUIT, COCK, COFFEE)\n",
            "37     0.10          (CORNFLAKES, BISCUIT, COCK)\n",
            "38     0.10        (CORNFLAKES, BISCUIT, COFFEE)\n",
            "39     0.10                (BISCUIT, TEA, MAGGI)\n",
            "40     0.10              (BOURNVITA, TEA, BREAD)\n",
            "41     0.10               (SUGER, BREAD, COFFEE)\n",
            "42     0.10                  (BREAD, MAGGI, JAM)\n",
            "43     0.10                  (TEA, BREAD, MAGGI)\n",
            "44     0.10           (CORNFLAKES, COCK, COFFEE)\n",
            "45     0.10  (CORNFLAKES, BISCUIT, COCK, COFFEE)\n"
          ]
        }
      ]
    },
    {
      "cell_type": "code",
      "source": [
        "rules_ap = association_rules(frequent_itemsets_ap, metric='confidence', min_threshold=0.8)\n",
        "print(rules_ap)"
      ],
      "metadata": {
        "colab": {
          "base_uri": "https://localhost:8080/"
        },
        "id": "b6jgwzn0S8Q_",
        "outputId": "18a2efd4-6a75-4277-fc09-c56f1ccdd1ad"
      },
      "execution_count": 30,
      "outputs": [
        {
          "output_type": "stream",
          "name": "stdout",
          "text": [
            "                      antecedents           consequents  antecedent support  \\\n",
            "0                           (JAM)               (BREAD)                0.10   \n",
            "1                          (MILK)               (BREAD)                0.25   \n",
            "2                          (COCK)              (COFFEE)                0.15   \n",
            "3                           (JAM)               (MAGGI)                0.10   \n",
            "4                         (MAGGI)                 (TEA)                0.25   \n",
            "5                 (BISCUIT, MILK)               (BREAD)                0.10   \n",
            "6                 (BISCUIT, COCK)              (COFFEE)                0.10   \n",
            "7               (BISCUIT, COFFEE)                (COCK)                0.10   \n",
            "8              (CORNFLAKES, COCK)             (BISCUIT)                0.10   \n",
            "9                 (BISCUIT, COCK)          (CORNFLAKES)                0.10   \n",
            "10              (BISCUIT, COFFEE)          (CORNFLAKES)                0.10   \n",
            "11                 (BISCUIT, TEA)               (MAGGI)                0.10   \n",
            "12               (BISCUIT, MAGGI)                 (TEA)                0.10   \n",
            "13               (BOURNVITA, TEA)               (BREAD)                0.10   \n",
            "14                   (BREAD, JAM)               (MAGGI)                0.10   \n",
            "15                   (MAGGI, JAM)               (BREAD)                0.10   \n",
            "16                          (JAM)        (BREAD, MAGGI)                0.10   \n",
            "17             (CORNFLAKES, COCK)              (COFFEE)                0.10   \n",
            "18    (CORNFLAKES, BISCUIT, COCK)              (COFFEE)                0.10   \n",
            "19  (CORNFLAKES, BISCUIT, COFFEE)                (COCK)                0.10   \n",
            "20     (CORNFLAKES, COCK, COFFEE)             (BISCUIT)                0.10   \n",
            "21        (BISCUIT, COCK, COFFEE)          (CORNFLAKES)                0.10   \n",
            "22             (CORNFLAKES, COCK)     (BISCUIT, COFFEE)                0.10   \n",
            "23                (BISCUIT, COCK)  (CORNFLAKES, COFFEE)                0.10   \n",
            "24              (BISCUIT, COFFEE)    (CORNFLAKES, COCK)                0.10   \n",
            "\n",
            "    consequent support  support  confidence       lift  leverage  conviction  \n",
            "0                 0.65     0.10         1.0   1.538462    0.0350         inf  \n",
            "1                 0.65     0.20         0.8   1.230769    0.0375        1.75  \n",
            "2                 0.40     0.15         1.0   2.500000    0.0900         inf  \n",
            "3                 0.25     0.10         1.0   4.000000    0.0750         inf  \n",
            "4                 0.35     0.20         0.8   2.285714    0.1125        3.25  \n",
            "5                 0.65     0.10         1.0   1.538462    0.0350         inf  \n",
            "6                 0.40     0.10         1.0   2.500000    0.0600         inf  \n",
            "7                 0.15     0.10         1.0   6.666667    0.0850         inf  \n",
            "8                 0.35     0.10         1.0   2.857143    0.0650         inf  \n",
            "9                 0.30     0.10         1.0   3.333333    0.0700         inf  \n",
            "10                0.30     0.10         1.0   3.333333    0.0700         inf  \n",
            "11                0.25     0.10         1.0   4.000000    0.0750         inf  \n",
            "12                0.35     0.10         1.0   2.857143    0.0650         inf  \n",
            "13                0.65     0.10         1.0   1.538462    0.0350         inf  \n",
            "14                0.25     0.10         1.0   4.000000    0.0750         inf  \n",
            "15                0.65     0.10         1.0   1.538462    0.0350         inf  \n",
            "16                0.15     0.10         1.0   6.666667    0.0850         inf  \n",
            "17                0.40     0.10         1.0   2.500000    0.0600         inf  \n",
            "18                0.40     0.10         1.0   2.500000    0.0600         inf  \n",
            "19                0.15     0.10         1.0   6.666667    0.0850         inf  \n",
            "20                0.35     0.10         1.0   2.857143    0.0650         inf  \n",
            "21                0.30     0.10         1.0   3.333333    0.0700         inf  \n",
            "22                0.10     0.10         1.0  10.000000    0.0900         inf  \n",
            "23                0.20     0.10         1.0   5.000000    0.0800         inf  \n",
            "24                0.10     0.10         1.0  10.000000    0.0900         inf  \n"
          ]
        }
      ]
    },
    {
      "cell_type": "code",
      "source": [],
      "metadata": {
        "id": "T9XJ_G3BRiOM"
      },
      "execution_count": null,
      "outputs": []
    }
  ]
}