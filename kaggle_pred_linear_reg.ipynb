{
 "cells": [
  {
   "cell_type": "markdown",
   "id": "7a05a907",
   "metadata": {},
   "source": [
    "The Goal\n",
    "Predict house prices more accurate that one achive during kaggle machine learing toutorial.Current score = 21217.91640\n",
    "\n",
    "The plan\n",
    "1. Try linear regression on numerical features without encoding categorical features"
   ]
  },
  {
   "cell_type": "code",
   "execution_count": 17,
   "id": "623ac683",
   "metadata": {},
   "outputs": [],
   "source": [
    "import pandas as pd\n",
    "from sklearn.linear_model import LinearRegression\n",
    "from sklearn.metrics import mean_absolute_error\n",
    "from sklearn.model_selection import train_test_split\n",
    "current_score = 21217.91640"
   ]
  },
  {
   "cell_type": "code",
   "execution_count": 15,
   "id": "fbb3ddfe",
   "metadata": {},
   "outputs": [
    {
     "name": "stdout",
     "output_type": "stream",
     "text": [
      "29233.585221489193\n"
     ]
    }
   ],
   "source": [
    "#load the data\n",
    "\n",
    "house_data_train_path = './kaggle/train.csv'\n",
    "house_data = pd.read_csv(house_data_train_path)\n",
    "\n",
    "#letes create a feature call HouseAge based on Year of Build and current year. Then lets take features that hold a numerical values\n",
    "house_data['HouseAge'] = house_data.apply(lambda row: 2022 - row.YearBuilt, axis=1)\n",
    "features = ['GarageArea', 'GarageCars', 'HouseAge', 'OverallQual', 'OverallCond', 'LotArea', 'MSSubClass']\n",
    "\n",
    "\n",
    "y = house_data.SalePrice\n",
    "X = house_data[features]\n",
    "\n",
    "#split data into train and test parts\n",
    "train_X, test_X, train_y, test_y = train_test_split(X, y, random_state=1)\n",
    "\n",
    "#define a model\n",
    "rf_model = LinearRegression()\n",
    "rf_model.fit(train_X, train_y)\n",
    "\n",
    "#calculate predictions for test data\n",
    "test_predictions = rf_model.predict(test_X)\n",
    "\n",
    "#calculate the error\n",
    "rf_mae = mean_absolute_error(test_predictions, test_y)\n",
    "\n",
    "print(rf_mae)"
   ]
  },
  {
   "cell_type": "code",
   "execution_count": 19,
   "id": "df04663b",
   "metadata": {},
   "outputs": [
    {
     "name": "stdout",
     "output_type": "stream",
     "text": [
      "is now better?: False\n"
     ]
    }
   ],
   "source": [
    "# lets fit the result with current score \n",
    "print(f\"is now better?: {current_score > rf_mae}\")"
   ]
  },
  {
   "cell_type": "code",
   "execution_count": null,
   "id": "550889dd",
   "metadata": {},
   "outputs": [],
   "source": []
  }
 ],
 "metadata": {
  "kernelspec": {
   "display_name": "Python 3 (ipykernel)",
   "language": "python",
   "name": "python3"
  },
  "language_info": {
   "codemirror_mode": {
    "name": "ipython",
    "version": 3
   },
   "file_extension": ".py",
   "mimetype": "text/x-python",
   "name": "python",
   "nbconvert_exporter": "python",
   "pygments_lexer": "ipython3",
   "version": "3.8.10"
  }
 },
 "nbformat": 4,
 "nbformat_minor": 5
}
